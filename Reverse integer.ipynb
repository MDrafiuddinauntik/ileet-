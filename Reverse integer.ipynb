Given a signed 32-bit integer x, return x with its digits reversed.
If reversing x causes the value to go outside the signed 32-bit integer range [-231, 231 - 1], then return 0.
Assume the environment does not allow you to store 64-bit integers (signed or unsigned).

Example 1:
Input: x = 123
Output: 321

Example 2:
Input: x = -123
Output: -321

Example 3:
Input: x = 120
Output: 21
 
Constraints:
-231 <= x <= 231 - 1

#My initial code
class Solution:
    def reverse(self, x: int) -> int:
        s=str(x)
        n=""
        if s[0]=="-":
            n="-"
            s=s[1:]
        for i in range(len(s)-1,-1,-1):
            n+=s[i]
        if int(n)>(2**31-1) or int(n)<(-2**31):
            return 0
        else:
            return int(n)





# Not my code but has 0ms time complexity

__import__("atexit").register(lambda: open("display_runtime.txt", "w").write("0"))
class Solution:
    def rev(self, x: int) -> int:
        if x < 0:
            return -int(''.join(list(reversed(str(-x)))))
        return int(''.join(list(reversed(str(x)))))
    def reverse(self, x: int) -> int:
        x = Solution().rev(x)
        if (x < -(1 << 31)) or (x > (1 << 31)):
            return 0
        return x


#Not my code but least space complexity
class Solution:
    def reverse(self, x: int) -> int:
        # Define the 32-bit integer range limits
        INT_MAX = pow(2, 31) - 1
        INT_MIN = -pow(2, 31)
        
        # Check if the input is already out of bounds
        if x > INT_MAX or x < INT_MIN:
            return 0

        rev = 0
        flag = 1 if x >= 0 else -1  # Determine the sign of x
        x = abs(x)

        while x != 0:
            digit = x % 10
            # Check for overflow before appending the digit
            if rev > (INT_MAX - digit) // 10:
                return 0  # Overflow condition
            rev = rev * 10 + digit
            x = x // 10

        return rev * flag
